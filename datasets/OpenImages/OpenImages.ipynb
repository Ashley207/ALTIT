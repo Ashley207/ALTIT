{
 "cells": [
  {
   "cell_type": "code",
   "execution_count": null,
   "metadata": {},
   "outputs": [
    {
     "name": "stdout",
     "output_type": "stream",
     "text": [
      "❌ Hata: Dosya bulunamadı veya .tsv formatında değil! Lütfen doğru dosya yolunu girin.\n",
      "❌ Hata: Dosya bulunamadı veya .tsv formatında değil! Lütfen doğru dosya yolunu girin.\n"
     ]
    }
   ],
   "source": [
    "import pandas as pd\n",
    "import os\n",
    "import random\n",
    "import matplotlib.pyplot as plt\n",
    "from skimage import io  # Görselleri okumak için\n",
    "\n",
    "# Kullanıcıdan dosya yolunu alma fonksiyonu\n",
    "def get_file_path():\n",
    "    while True:\n",
    "        dosya_yolu = input(\"Lütfen TSV dosyanızın tam yolunu girin: \")\n",
    "        \n",
    "        # Dosya mevcut mu kontrol et\n",
    "        if os.path.exists(dosya_yolu) and dosya_yolu.endswith('.tsv'):\n",
    "            return dosya_yolu\n",
    "        else:\n",
    "            print(\"❌ Hata: Dosya bulunamadı veya .tsv formatında değil! Lütfen doğru dosya yolunu girin.\")\n",
    "\n",
    "# Kullanıcıdan dosya yolunu al\n",
    "dosya_yolu = get_file_path()\n",
    "\n",
    "# TSV dosyasını oku\n",
    "df = pd.read_csv(dosya_yolu, sep=\"\\t\")\n",
    "\n",
    "# Görsellerin dosya yollarının olduğu sütunu belirle (Örneğin 'image_path' sütunu olabilir)\n",
    "image_column = \"image_path\"\n",
    "\n",
    "# Sütunun olup olmadığını kontrol et\n",
    "if image_column not in df.columns:\n",
    "    print(f\"❌ Hata: '{image_column}' sütunu bulunamadı! Lütfen veri setinizi kontrol edin.\")\n",
    "else:\n",
    "    # Görsel dosya yollarını liste olarak al\n",
    "    image_files = df[image_column].dropna().tolist()\n",
    "\n",
    "    if len(image_files) == 0:\n",
    "        print(\"❌ Hata: Görsellerin dosya yolları tespit edilemedi!\")\n",
    "    else:\n",
    "        # Rastgele 5 görsel seç (Eğer 5'ten az görsel varsa, mevcut tüm görselleri kullan)\n",
    "        selected_images = random.sample(image_files, min(5, len(image_files)))\n",
    "\n",
    "        # Seçilen görselleri ekrana göster\n",
    "        for image_path in selected_images:\n",
    "            # Görseli oku\n",
    "            img = io.imread(image_path)\n",
    "\n",
    "            # Görseli ekrana göster\n",
    "            plt.figure(figsize=(5, 5))\n",
    "            plt.imshow(img)\n",
    "            plt.title(f\"Görsel: {os.path.basename(image_path)}\")\n",
    "            plt.axis('off')  \n",
    "            plt.show()\n"
   ]
  }
 ],
 "metadata": {
  "kernelspec": {
   "display_name": "notebook",
   "language": "python",
   "name": "python3"
  },
  "language_info": {
   "codemirror_mode": {
    "name": "ipython",
    "version": 3
   },
   "file_extension": ".py",
   "mimetype": "text/x-python",
   "name": "python",
   "nbconvert_exporter": "python",
   "pygments_lexer": "ipython3",
   "version": "3.11.11"
  }
 },
 "nbformat": 4,
 "nbformat_minor": 2
}
